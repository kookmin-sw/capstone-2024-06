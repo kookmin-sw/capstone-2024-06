{
  "nbformat": 4,
  "nbformat_minor": 0,
  "metadata": {
    "colab": {
      "provenance": [],
      "gpuType": "T4"
    },
    "kernelspec": {
      "name": "python3",
      "display_name": "Python 3"
    },
    "language_info": {
      "name": "python"
    },
    "accelerator": "GPU"
  },
  "cells": [
    {
      "cell_type": "code",
      "execution_count": 3,
      "metadata": {
        "colab": {
          "base_uri": "https://localhost:8080/"
        },
        "id": "Okptqzp_pQQO",
        "outputId": "5f1eb109-de4e-462f-86c2-ba1faf2d5e2e"
      },
      "outputs": [
        {
          "output_type": "stream",
          "name": "stdout",
          "text": [
            "--2024-05-28 19:23:22--  https://drive.usercontent.google.com/download?id=1vh3GYfYIaxPokXppuQuzt4qUop4DtyqI&export=download&authuser=1&confirm=t\n",
            "Resolving drive.usercontent.google.com (drive.usercontent.google.com)... 64.233.189.132, 2404:6800:4008:c07::84\n",
            "Connecting to drive.usercontent.google.com (drive.usercontent.google.com)|64.233.189.132|:443... connected.\n",
            "HTTP request sent, awaiting response... 200 OK\n",
            "Length: 76333184 (73M) [application/octet-stream]\n",
            "Saving to: ‘features.npy’\n",
            "\n",
            "features.npy        100%[===================>]  72.80M   241MB/s    in 0.3s    \n",
            "\n",
            "2024-05-28 19:23:24 (241 MB/s) - ‘features.npy’ saved [76333184/76333184]\n",
            "\n"
          ]
        }
      ],
      "source": [
        "!wget 'https://drive.usercontent.google.com/download?id=1vh3GYfYIaxPokXppuQuzt4qUop4DtyqI&export=download&authuser=1&confirm=t' -O features.npy"
      ]
    },
    {
      "cell_type": "code",
      "source": [
        "!wget 'https://drive.usercontent.google.com/download?id=1-5e2bAdzfXmvpsiqL0X7_TyKr0b6KVza&export=download&authuser=1&confirm=t' -O interactions.csv"
      ],
      "metadata": {
        "colab": {
          "base_uri": "https://localhost:8080/"
        },
        "id": "SKVpdle8p8bk",
        "outputId": "cfdef54c-bbe4-4dae-fb32-895fe3cacdc0"
      },
      "execution_count": 4,
      "outputs": [
        {
          "output_type": "stream",
          "name": "stdout",
          "text": [
            "--2024-05-28 19:23:30--  https://drive.usercontent.google.com/download?id=1-5e2bAdzfXmvpsiqL0X7_TyKr0b6KVza&export=download&authuser=1&confirm=t\n",
            "Resolving drive.usercontent.google.com (drive.usercontent.google.com)... 64.233.189.132, 2404:6800:4008:c07::84\n",
            "Connecting to drive.usercontent.google.com (drive.usercontent.google.com)|64.233.189.132|:443... connected.\n",
            "HTTP request sent, awaiting response... 200 OK\n",
            "Length: 251321 (245K) [application/octet-stream]\n",
            "Saving to: ‘interactions.csv’\n",
            "\n",
            "interactions.csv    100%[===================>] 245.43K  --.-KB/s    in 0.002s  \n",
            "\n",
            "2024-05-28 19:23:30 (104 MB/s) - ‘interactions.csv’ saved [251321/251321]\n",
            "\n"
          ]
        }
      ]
    },
    {
      "cell_type": "code",
      "source": [
        "import pandas as pd\n",
        "import numpy as np\n",
        "\n",
        "import torch\n",
        "import torch.nn as nn\n",
        "import torch.optim as optim\n",
        "\n",
        "from sklearn.model_selection import train_test_split"
      ],
      "metadata": {
        "id": "S_94mDNgqCUl"
      },
      "execution_count": 74,
      "outputs": []
    },
    {
      "cell_type": "code",
      "source": [
        "device = torch.device(\"cuda\" if torch.cuda.is_available() else \"cpu\")"
      ],
      "metadata": {
        "id": "wpIdv-n3vDfZ"
      },
      "execution_count": 75,
      "outputs": []
    },
    {
      "cell_type": "code",
      "source": [
        "class BPRModel(nn.Module):\n",
        "    def __init__(self, num_users, num_items, design_vectors, dim=50):\n",
        "        super(BPRModel, self).__init__()\n",
        "        self.design_embedding = nn.Embedding.from_pretrained(torch.tensor(design_vectors), freeze=True)\n",
        "        self.linear = nn.Sequential(\n",
        "            nn.Linear(design_vectors.shape[1], 500),\n",
        "            nn.ReLU(),\n",
        "            nn.Linear(500, dim)\n",
        "        )\n",
        "        self.item_embedding = nn.Embedding(num_items, dim)\n",
        "        nn.init.normal_(self.item_embedding.weight, std=0.01)\n",
        "\n",
        "    def forward(self, design_indices, item_indices):\n",
        "        design_embedding = self.design_embedding(design_indices)\n",
        "        design_embedding = self.linear(design_embedding)\n",
        "        item_embedding = self.item_embedding(item_indices)\n",
        "        return (design_embedding * item_embedding).sum(dim=1)"
      ],
      "metadata": {
        "id": "Ef6JPCsNrcpI"
      },
      "execution_count": 177,
      "outputs": []
    },
    {
      "cell_type": "code",
      "source": [
        "interaction = pd.read_csv('interactions.csv')\n",
        "design_tensor = torch.tensor(interaction['design'].values).to(device)\n",
        "item_tensor = torch.tensor(interaction['item'].values).to(device)\n",
        "\n",
        "n_designs = design_tensor.max() + 1\n",
        "n_items = item_tensor.max() + 1\n",
        "\n",
        "features = np.load('features.npy')"
      ],
      "metadata": {
        "id": "_lN2zxkGsmYB"
      },
      "execution_count": 178,
      "outputs": []
    },
    {
      "cell_type": "code",
      "source": [
        "item_counts = interaction[\"item\"].groupby(interaction[\"item\"]).count()\n",
        "item_frequency = torch.tensor(item_counts).to(device)"
      ],
      "metadata": {
        "id": "rjkYk4eW1_SZ"
      },
      "execution_count": 179,
      "outputs": []
    },
    {
      "cell_type": "code",
      "source": [
        "def bpr_loss(positive_scores, negative_scores, item_frequency, item_indices, a=0.5):\n",
        "    weights = 1.0 / torch.sqrt(item_frequency[item_indices].float())\n",
        "    loss = (-torch.log(torch.sigmoid(positive_scores - negative_scores)) * weights).mean()\n",
        "    reg_loss = a * weights.mean()\n",
        "    return loss + reg_loss"
      ],
      "metadata": {
        "id": "4BlLtXMEs1OB"
      },
      "execution_count": 180,
      "outputs": []
    },
    {
      "cell_type": "code",
      "source": [
        "model = BPRModel(n_designs, n_items, features, dim=50).to(device)\n",
        "optimizer = optim.Adam(model.parameters(), lr=0.001, weight_decay=0.01)"
      ],
      "metadata": {
        "id": "W1RdOSNntqmv"
      },
      "execution_count": 181,
      "outputs": []
    },
    {
      "cell_type": "code",
      "source": [
        "for epoch in range(30):\n",
        "    indices = torch.randperm(len(design_tensor))\n",
        "    design_tensor_shuffled = design_tensor[indices]\n",
        "    item_tensor_shuffled = item_tensor[indices]\n",
        "    total_loss = 0\n",
        "\n",
        "    for i in range(0, len(design_tensor), 64):\n",
        "        design_batch = design_tensor_shuffled[i:i+64]\n",
        "        item_batch = item_tensor_shuffled[i:i+64]\n",
        "\n",
        "        positive_scores = model(design_batch, item_batch)\n",
        "\n",
        "        # negative_indices = torch.randint(0, n_items, (len(design_batch),)).to(device)\n",
        "        negative_indices = []\n",
        "        for _ in range(len(design_batch)):\n",
        "            while True:\n",
        "                neg_item = torch.randint(0, n_items, (1,)).to(device)\n",
        "                if neg_item not in item_batch:\n",
        "                    negative_indices.append(neg_item.item())\n",
        "                    break\n",
        "        negative_indices = torch.tensor(negative_indices).to(device)\n",
        "        negative_scores = model(design_batch, negative_indices)\n",
        "\n",
        "        loss = bpr_loss(positive_scores, negative_scores, item_frequency, negative_indices)\n",
        "        total_loss += loss.item()\n",
        "\n",
        "        optimizer.zero_grad()\n",
        "        loss.backward()\n",
        "        optimizer.step()\n",
        "\n",
        "    print(f\"Epoch {epoch+1}, Loss: {total_loss}\")"
      ],
      "metadata": {
        "colab": {
          "base_uri": "https://localhost:8080/"
        },
        "id": "FrWINXwUqXXM",
        "outputId": "e2792cce-6de8-4277-88c0-baf2fc0c483f"
      },
      "execution_count": 182,
      "outputs": [
        {
          "output_type": "stream",
          "name": "stdout",
          "text": [
            "Epoch 1, Loss: 385.121522963047\n",
            "Epoch 2, Loss: 344.015248298645\n",
            "Epoch 3, Loss: 335.3722930550575\n",
            "Epoch 4, Loss: 334.1620962023735\n",
            "Epoch 5, Loss: 333.01745414733887\n",
            "Epoch 6, Loss: 331.31636464595795\n",
            "Epoch 7, Loss: 330.79290598630905\n",
            "Epoch 8, Loss: 329.34319776296616\n",
            "Epoch 9, Loss: 328.8799862265587\n",
            "Epoch 10, Loss: 326.6251026391983\n",
            "Epoch 11, Loss: 325.4956593513489\n",
            "Epoch 12, Loss: 324.02797079086304\n",
            "Epoch 13, Loss: 323.5810977220535\n",
            "Epoch 14, Loss: 321.5159893631935\n",
            "Epoch 15, Loss: 321.514345228672\n",
            "Epoch 16, Loss: 320.0829292535782\n",
            "Epoch 17, Loss: 319.64409440755844\n",
            "Epoch 18, Loss: 319.1051405072212\n",
            "Epoch 19, Loss: 318.92776131629944\n",
            "Epoch 20, Loss: 317.99119931459427\n",
            "Epoch 21, Loss: 318.0650141239166\n",
            "Epoch 22, Loss: 317.34606117010117\n",
            "Epoch 23, Loss: 316.42103737592697\n",
            "Epoch 24, Loss: 315.88643115758896\n",
            "Epoch 25, Loss: 316.14790320396423\n",
            "Epoch 26, Loss: 315.4399518966675\n",
            "Epoch 27, Loss: 315.1131461262703\n",
            "Epoch 28, Loss: 314.65364187955856\n",
            "Epoch 29, Loss: 314.1431814432144\n",
            "Epoch 30, Loss: 313.611967086792\n"
          ]
        }
      ]
    },
    {
      "cell_type": "code",
      "source": [
        "def recommend_items(model, design_idx, num_items, top_n=30):\n",
        "    design_tensor = torch.tensor([design_idx])\n",
        "    item_indices = torch.arange(num_items)\n",
        "\n",
        "    design_tensor = design_tensor.to(device)\n",
        "    item_indices = item_indices.to(device)\n",
        "\n",
        "    with torch.no_grad():\n",
        "        scores = model(design_tensor, item_indices)\n",
        "\n",
        "    _, top_indices = torch.topk(scores, top_n)\n",
        "    top_indices = top_indices.squeeze().cpu().numpy().tolist()\n",
        "\n",
        "    return top_indices\n",
        "\n",
        "recommendations = recommend_items(model, design_idx=0, num_items=n_items)\n",
        "print(\"Top recommended item indices:\", recommendations)"
      ],
      "metadata": {
        "colab": {
          "base_uri": "https://localhost:8080/"
        },
        "id": "CxAhKO1-wwSZ",
        "outputId": "814606be-7688-455c-82e9-74f2871cad81"
      },
      "execution_count": 192,
      "outputs": [
        {
          "output_type": "stream",
          "name": "stdout",
          "text": [
            "Top recommended item indices: [161, 5, 4, 3, 563, 96, 261, 109, 351, 89, 405, 76, 572, 240, 124, 53, 281, 284, 884, 49, 25, 162, 97, 349, 271, 94, 51, 134, 280, 37]\n"
          ]
        }
      ]
    },
    {
      "cell_type": "code",
      "source": [],
      "metadata": {
        "id": "zABfD7Gl_CtD"
      },
      "execution_count": null,
      "outputs": []
    }
  ]
}