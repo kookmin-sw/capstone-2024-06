{
  "nbformat": 4,
  "nbformat_minor": 0,
  "metadata": {
    "colab": {
      "provenance": [],
      "gpuType": "T4"
    },
    "kernelspec": {
      "name": "python3",
      "display_name": "Python 3"
    },
    "language_info": {
      "name": "python"
    },
    "accelerator": "GPU"
  },
  "cells": [
    {
      "cell_type": "code",
      "execution_count": 1,
      "metadata": {
        "colab": {
          "base_uri": "https://localhost:8080/"
        },
        "id": "Okptqzp_pQQO",
        "outputId": "8a250bb7-302f-4ea9-b0a5-c93ea1ca47b8"
      },
      "outputs": [
        {
          "output_type": "stream",
          "name": "stdout",
          "text": [
            "--2024-05-29 08:51:06--  https://drive.usercontent.google.com/download?id=1vh3GYfYIaxPokXppuQuzt4qUop4DtyqI&export=download&authuser=1&confirm=t\n",
            "Resolving drive.usercontent.google.com (drive.usercontent.google.com)... 142.250.145.132, 2a00:1450:4013:c14::84\n",
            "Connecting to drive.usercontent.google.com (drive.usercontent.google.com)|142.250.145.132|:443... connected.\n",
            "HTTP request sent, awaiting response... 200 OK\n",
            "Length: 76333184 (73M) [application/octet-stream]\n",
            "Saving to: ‘features.npy’\n",
            "\n",
            "features.npy        100%[===================>]  72.80M   122MB/s    in 0.6s    \n",
            "\n",
            "2024-05-29 08:51:10 (122 MB/s) - ‘features.npy’ saved [76333184/76333184]\n",
            "\n"
          ]
        }
      ],
      "source": [
        "!wget 'https://drive.usercontent.google.com/download?id=1vh3GYfYIaxPokXppuQuzt4qUop4DtyqI&export=download&authuser=1&confirm=t' -O features.npy"
      ]
    },
    {
      "cell_type": "code",
      "source": [
        "!wget 'https://drive.usercontent.google.com/download?id=1-5e2bAdzfXmvpsiqL0X7_TyKr0b6KVza&export=download&authuser=1&confirm=t' -O interactions.csv"
      ],
      "metadata": {
        "colab": {
          "base_uri": "https://localhost:8080/"
        },
        "id": "SKVpdle8p8bk",
        "outputId": "bb247158-1641-48e6-f1eb-cecec482f7a4"
      },
      "execution_count": 2,
      "outputs": [
        {
          "output_type": "stream",
          "name": "stdout",
          "text": [
            "--2024-05-29 08:51:10--  https://drive.usercontent.google.com/download?id=1-5e2bAdzfXmvpsiqL0X7_TyKr0b6KVza&export=download&authuser=1&confirm=t\n",
            "Resolving drive.usercontent.google.com (drive.usercontent.google.com)... 142.250.145.132, 2a00:1450:4013:c14::84\n",
            "Connecting to drive.usercontent.google.com (drive.usercontent.google.com)|142.250.145.132|:443... connected.\n",
            "HTTP request sent, awaiting response... 200 OK\n",
            "Length: 251321 (245K) [application/octet-stream]\n",
            "Saving to: ‘interactions.csv’\n",
            "\n",
            "interactions.csv    100%[===================>] 245.43K  --.-KB/s    in 0.002s  \n",
            "\n",
            "2024-05-29 08:51:10 (96.2 MB/s) - ‘interactions.csv’ saved [251321/251321]\n",
            "\n"
          ]
        }
      ]
    },
    {
      "cell_type": "code",
      "source": [
        "import pandas as pd\n",
        "import numpy as np\n",
        "\n",
        "import torch\n",
        "import torch.nn as nn\n",
        "import torch.optim as optim\n",
        "\n",
        "from sklearn.model_selection import train_test_split"
      ],
      "metadata": {
        "id": "S_94mDNgqCUl"
      },
      "execution_count": 3,
      "outputs": []
    },
    {
      "cell_type": "code",
      "source": [
        "device = torch.device(\"cuda\" if torch.cuda.is_available() else \"cpu\")"
      ],
      "metadata": {
        "id": "wpIdv-n3vDfZ"
      },
      "execution_count": 4,
      "outputs": []
    },
    {
      "cell_type": "code",
      "source": [
        "class BPRModel(nn.Module):\n",
        "    def __init__(self, num_users, num_items, design_vectors, dim=50):\n",
        "        super(BPRModel, self).__init__()\n",
        "        self.design_embedding = nn.Embedding.from_pretrained(torch.tensor(design_vectors), freeze=True)\n",
        "        self.linear = nn.Sequential(\n",
        "            nn.Linear(design_vectors.shape[1], 500),\n",
        "            nn.ReLU(),\n",
        "            nn.Linear(500, dim)\n",
        "        )\n",
        "        self.item_embedding = nn.Embedding(num_items, dim)\n",
        "        nn.init.normal_(self.item_embedding.weight, std=0.01)\n",
        "\n",
        "    def forward(self, design_indices, item_indices):\n",
        "        design_embedding = self.design_embedding(design_indices)\n",
        "        design_embedding = self.linear(design_embedding)\n",
        "        item_embedding = self.item_embedding(item_indices)\n",
        "        return (design_embedding * item_embedding).sum(dim=1)"
      ],
      "metadata": {
        "id": "Ef6JPCsNrcpI"
      },
      "execution_count": 5,
      "outputs": []
    },
    {
      "cell_type": "code",
      "source": [
        "interaction = pd.read_csv('interactions.csv')\n",
        "design_tensor = torch.tensor(interaction['design'].values).to(device)\n",
        "item_tensor = torch.tensor(interaction['item'].values).to(device)\n",
        "\n",
        "n_designs = design_tensor.max() + 1\n",
        "n_items = item_tensor.max() + 1\n",
        "\n",
        "features = np.load('features.npy')"
      ],
      "metadata": {
        "id": "_lN2zxkGsmYB"
      },
      "execution_count": 6,
      "outputs": []
    },
    {
      "cell_type": "code",
      "source": [
        "item_counts = interaction[\"item\"].groupby(interaction[\"item\"]).count()\n",
        "item_frequency = torch.tensor(item_counts).to(device)"
      ],
      "metadata": {
        "id": "rjkYk4eW1_SZ"
      },
      "execution_count": 7,
      "outputs": []
    },
    {
      "cell_type": "code",
      "source": [
        "def bpr_loss(positive_scores, negative_scores, item_frequency, item_indices, a=0.5):\n",
        "    # weights = 1.0 / torch.sqrt(item_frequency[item_indices].float())\n",
        "    weights = 1.0 / item_frequency[item_indices].float()\n",
        "    loss = (-torch.log(torch.sigmoid(positive_scores - negative_scores)) * weights).mean()\n",
        "    reg_loss = a * weights.mean()\n",
        "    return loss + reg_loss"
      ],
      "metadata": {
        "id": "4BlLtXMEs1OB"
      },
      "execution_count": 8,
      "outputs": []
    },
    {
      "cell_type": "code",
      "source": [
        "model = BPRModel(n_designs, n_items, features, dim=50).to(device)\n",
        "optimizer = optim.Adam(model.parameters(), lr=0.01, weight_decay=0.0001)"
      ],
      "metadata": {
        "id": "W1RdOSNntqmv"
      },
      "execution_count": 9,
      "outputs": []
    },
    {
      "cell_type": "code",
      "source": [
        "for epoch in range(30):\n",
        "    indices = torch.randperm(len(design_tensor))\n",
        "    design_tensor_shuffled = design_tensor[indices]\n",
        "    item_tensor_shuffled = item_tensor[indices]\n",
        "    total_loss = 0\n",
        "\n",
        "    for i in range(0, len(design_tensor), 64):\n",
        "        design_batch = design_tensor_shuffled[i:i+64]\n",
        "        item_batch = item_tensor_shuffled[i:i+64]\n",
        "\n",
        "        positive_scores = model(design_batch, item_batch)\n",
        "\n",
        "        # negative_indices = torch.randint(0, n_items, (len(design_batch),)).to(device)\n",
        "        negative_indices = []\n",
        "        for _ in range(len(design_batch)):\n",
        "            while True:\n",
        "                neg_item = torch.randint(0, n_items, (1,)).to(device)\n",
        "                if neg_item not in item_batch:\n",
        "                    negative_indices.append(neg_item.item())\n",
        "                    break\n",
        "        negative_indices = torch.tensor(negative_indices).to(device)\n",
        "        negative_scores = model(design_batch, negative_indices)\n",
        "\n",
        "        loss = bpr_loss(positive_scores, negative_scores, item_frequency, negative_indices)\n",
        "        total_loss += loss.item()\n",
        "\n",
        "        optimizer.zero_grad()\n",
        "        loss.backward()\n",
        "        optimizer.step()\n",
        "\n",
        "    print(f\"Epoch {epoch+1}, Loss: {total_loss}\")"
      ],
      "metadata": {
        "colab": {
          "base_uri": "https://localhost:8080/"
        },
        "id": "FrWINXwUqXXM",
        "outputId": "94eb58ab-4623-4b38-bb38-7eb3db1c1ce6"
      },
      "execution_count": 10,
      "outputs": [
        {
          "output_type": "stream",
          "name": "stdout",
          "text": [
            "Epoch 1, Loss: 299.13902109861374\n",
            "Epoch 2, Loss: 273.67852783203125\n",
            "Epoch 3, Loss: 263.9423939585686\n",
            "Epoch 4, Loss: 262.5723223686218\n",
            "Epoch 5, Loss: 259.96655428409576\n",
            "Epoch 6, Loss: 256.92868530750275\n",
            "Epoch 7, Loss: 258.66577285528183\n",
            "Epoch 8, Loss: 255.45046645402908\n",
            "Epoch 9, Loss: 255.08473962545395\n",
            "Epoch 10, Loss: 250.4937175810337\n",
            "Epoch 11, Loss: 248.75825661420822\n",
            "Epoch 12, Loss: 247.15264761447906\n",
            "Epoch 13, Loss: 245.16352504491806\n",
            "Epoch 14, Loss: 244.1954089999199\n",
            "Epoch 15, Loss: 242.49109503626823\n",
            "Epoch 16, Loss: 241.09044387936592\n",
            "Epoch 17, Loss: 240.71335616707802\n",
            "Epoch 18, Loss: 239.89184266328812\n",
            "Epoch 19, Loss: 239.14803498983383\n",
            "Epoch 20, Loss: 239.67493495345116\n",
            "Epoch 21, Loss: 240.46439629793167\n",
            "Epoch 22, Loss: 238.84125924110413\n",
            "Epoch 23, Loss: 238.2826208770275\n",
            "Epoch 24, Loss: 239.9125131368637\n",
            "Epoch 25, Loss: 238.0294712483883\n",
            "Epoch 26, Loss: 239.26156905293465\n",
            "Epoch 27, Loss: 239.51940208673477\n",
            "Epoch 28, Loss: 238.02664676308632\n",
            "Epoch 29, Loss: 237.68572235107422\n",
            "Epoch 30, Loss: 238.5007007420063\n"
          ]
        }
      ]
    },
    {
      "cell_type": "code",
      "source": [
        "def recommend_items(model, design_idx, num_items, top_n=30):\n",
        "    design_tensor = torch.tensor([design_idx])\n",
        "    item_indices = torch.arange(num_items)\n",
        "\n",
        "    design_tensor = design_tensor.to(device)\n",
        "    item_indices = item_indices.to(device)\n",
        "\n",
        "    with torch.no_grad():\n",
        "        scores = model(design_tensor, item_indices)\n",
        "\n",
        "    _, top_indices = torch.topk(scores, top_n)\n",
        "    top_indices = top_indices.squeeze().cpu().numpy().tolist()\n",
        "\n",
        "    return top_indices\n",
        "\n",
        "recommendations = recommend_items(model, design_idx=20, num_items=n_items)\n",
        "print(\"Top recommended item indices:\", recommendations)"
      ],
      "metadata": {
        "colab": {
          "base_uri": "https://localhost:8080/"
        },
        "id": "CxAhKO1-wwSZ",
        "outputId": "2c9e7408-5db2-463c-d2d8-04d525d27471"
      },
      "execution_count": 13,
      "outputs": [
        {
          "output_type": "stream",
          "name": "stdout",
          "text": [
            "Top recommended item indices: [5, 76, 201, 2684, 109, 89, 533, 3, 293, 118, 135, 4, 1487, 0, 370, 1907, 96, 25, 253, 26, 94, 892, 779, 864, 3941, 3021, 281, 2109, 120, 3609]\n"
          ]
        }
      ]
    },
    {
      "cell_type": "code",
      "source": [
        "torch.save(model.state_dict(), 'model.pth')"
      ],
      "metadata": {
        "id": "zABfD7Gl_CtD"
      },
      "execution_count": 15,
      "outputs": []
    }
  ]
}